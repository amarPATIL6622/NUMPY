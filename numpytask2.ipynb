{
 "cells": [
  {
   "cell_type": "markdown",
   "id": "3f1b1b9b-8e4c-4374-8076-bae7e82dcbb6",
   "metadata": {},
   "source": [
    " # Numpy Task\n"
   ]
  },
  {
   "cell_type": "code",
   "execution_count": 1,
   "id": "20fe6444-fc20-4e14-abe2-4b9dc7ec68fb",
   "metadata": {},
   "outputs": [],
   "source": [
    "import numpy as np"
   ]
  },
  {
   "cell_type": "markdown",
   "id": "71ad2076-ff79-40de-b70c-0f5962d3e39a",
   "metadata": {},
   "source": [
    "# 1\tCreate a 1D NumPy array of numbers from 0 to 9.\t\n"
   ]
  },
  {
   "cell_type": "code",
   "execution_count": 2,
   "id": "8bfc76a5-4262-4e2f-969a-a3efd82b5990",
   "metadata": {},
   "outputs": [
    {
     "name": "stdout",
     "output_type": "stream",
     "text": [
      "[0 1 2 3 4 5 6 7 8 9]\n"
     ]
    }
   ],
   "source": [
    "arr = np.arange(10)\n",
    "\n",
    "print(arr)\n"
   ]
  },
  {
   "cell_type": "markdown",
   "id": "f9ba3c53-5e96-47ca-9f5d-de4c7eaade10",
   "metadata": {},
   "source": [
    "# 2\tCreate a 2D array of shape (3, 3) with all elements as 1.\t\n"
   ]
  },
  {
   "cell_type": "code",
   "execution_count": 3,
   "id": "4e7eaae8-88af-4335-979c-bbbf3ee65149",
   "metadata": {},
   "outputs": [
    {
     "data": {
      "text/plain": [
       "array([[1, 1, 1],\n",
       "       [1, 1, 1],\n",
       "       [1, 1, 1]])"
      ]
     },
     "execution_count": 3,
     "metadata": {},
     "output_type": "execute_result"
    }
   ],
   "source": [
    "array_2d = np.ones((3, 3), dtype=int)\n",
    "array_2d\n"
   ]
  },
  {
   "cell_type": "markdown",
   "id": "866b4056-128e-4e04-99ad-699c18d06b93",
   "metadata": {},
   "source": [
    "# 3\tGenerate a NumPy array of 15 random integers between 10 and 50.\t\n"
   ]
  },
  {
   "cell_type": "code",
   "execution_count": 4,
   "id": "28ab9bbc-808a-4be6-979f-2d7b95f66fbb",
   "metadata": {},
   "outputs": [
    {
     "data": {
      "text/plain": [
       "array([29, 23, 31, 30, 12, 35, 34, 49, 34, 14, 36, 37, 37, 39, 37],\n",
       "      dtype=int32)"
      ]
     },
     "execution_count": 4,
     "metadata": {},
     "output_type": "execute_result"
    }
   ],
   "source": [
    "random_array = np.random.randint(10, 50, size=15)\n",
    "random_array"
   ]
  },
  {
   "cell_type": "markdown",
   "id": "56d64627-99a9-4dd4-bbff-d11f1353218f",
   "metadata": {},
   "source": [
    "# 4\tCreate an array of 5 evenly spaced numbers between 0 and 1 (inclusive).\t\n"
   ]
  },
  {
   "cell_type": "code",
   "execution_count": 5,
   "id": "2612319f-0e66-41b5-bec7-14ac4b52132b",
   "metadata": {},
   "outputs": [
    {
     "data": {
      "text/plain": [
       "array([0.  , 0.25, 0.5 , 0.75, 1.  ])"
      ]
     },
     "execution_count": 5,
     "metadata": {},
     "output_type": "execute_result"
    }
   ],
   "source": [
    "evenly_spaced = np.linspace(0, 1, 5)\n",
    "evenly_spaced"
   ]
  },
  {
   "cell_type": "markdown",
   "id": "ad772cf0-a010-42c9-9d6b-56722a0f5da8",
   "metadata": {},
   "source": [
    "# 5\tCreate a 4x4 identity matrix using NumPy.\t"
   ]
  },
  {
   "cell_type": "code",
   "execution_count": 6,
   "id": "143f8408-64fd-4610-9cde-92bdef91a27c",
   "metadata": {},
   "outputs": [
    {
     "data": {
      "text/plain": [
       "array([[1., 0., 0., 0.],\n",
       "       [0., 1., 0., 0.],\n",
       "       [0., 0., 1., 0.],\n",
       "       [0., 0., 0., 1.]])"
      ]
     },
     "execution_count": 6,
     "metadata": {},
     "output_type": "execute_result"
    }
   ],
   "source": [
    "identity_matrix = np.eye(4)\n",
    "identity_matrix"
   ]
  },
  {
   "cell_type": "markdown",
   "id": "0ac6f26a-da6a-4978-9911-f48f61aefdbe",
   "metadata": {},
   "source": [
    "# 7\tCreate a 3x3 array with values from 1 to 9, then extract the second column.\t\n"
   ]
  },
  {
   "cell_type": "code",
   "execution_count": 7,
   "id": "f8a524b7-2253-4b32-9aa3-37379ba7b1ba",
   "metadata": {},
   "outputs": [
    {
     "name": "stdout",
     "output_type": "stream",
     "text": [
      "3x3 Array:\n",
      " [[1 2 3]\n",
      " [4 5 6]\n",
      " [7 8 9]]\n",
      "\n",
      "Second Column:\n",
      " [2 5 8]\n"
     ]
    }
   ],
   "source": [
    "array_3x3 = np.arange(1, 10).reshape(3, 3)\n",
    "second_column = array_3x3[:, 1]\n",
    "print(\"3x3 Array:\\n\", array_3x3)\n",
    "print(\"\\nSecond Column:\\n\", second_column)\n"
   ]
  },
  {
   "cell_type": "markdown",
   "id": "e39d9baa-beb4-42f5-830c-58699828d67d",
   "metadata": {},
   "source": [
    "# 8\tCreate a 1D array with 10 elements and reshape it into a 2x5 matrix.\t\n"
   ]
  },
  {
   "cell_type": "code",
   "execution_count": 8,
   "id": "fe5ee3fd-7c7c-47a6-8b7a-0b7475043b21",
   "metadata": {},
   "outputs": [
    {
     "name": "stdout",
     "output_type": "stream",
     "text": [
      "1D Array: [0 1 2 3 4 5 6 7 8 9]\n",
      "\n",
      "Reshaped 2x5 Matrix:\n",
      " [[0 1 2 3 4]\n",
      " [5 6 7 8 9]]\n"
     ]
    }
   ],
   "source": [
    "array_1d = np.arange(10)\n",
    "matrix_2x5 = array_1d.reshape(2, 5)\n",
    "print(\"1D Array:\", array_1d)\n",
    "print(\"\\nReshaped 2x5 Matrix:\\n\", matrix_2x5)"
   ]
  },
  {
   "cell_type": "markdown",
   "id": "c8ac39f9-0aec-428e-b126-7dc75a75c234",
   "metadata": {},
   "source": [
    "# 9\tCreate two 2x2 matrices and perform matrix multiplication.\t\n"
   ]
  },
  {
   "cell_type": "code",
   "execution_count": 9,
   "id": "e01c9cb4-22bf-4fab-b8b2-349e4b8715f9",
   "metadata": {},
   "outputs": [
    {
     "data": {
      "text/plain": [
       "(array([[1, 2],\n",
       "        [3, 4]]),\n",
       " array([[10, 12],\n",
       "        [14, 16]]))"
      ]
     },
     "execution_count": 9,
     "metadata": {},
     "output_type": "execute_result"
    }
   ],
   "source": [
    "A = np.array([[1, 2],\n",
    "              [3, 4]])\n",
    "\n",
    "B = np.array([[5, 6],\n",
    "              [7, 8]])\n",
    "A,B*2\n"
   ]
  },
  {
   "cell_type": "markdown",
   "id": "4807b3fb-6ef4-4334-9d0f-bd88845d7e84",
   "metadata": {},
   "source": [
    "# 10 create 2x2 matrix and multiply by two different numbers"
   ]
  },
  {
   "cell_type": "code",
   "execution_count": 10,
   "id": "0498fcba-bebc-4579-8d33-bf57a1d6e796",
   "metadata": {},
   "outputs": [
    {
     "data": {
      "text/plain": [
       "(array([[8, 4],\n",
       "        [6, 8]]),\n",
       " array([[15, 12],\n",
       "        [21, 18]]))"
      ]
     },
     "execution_count": 10,
     "metadata": {},
     "output_type": "execute_result"
    }
   ],
   "source": [
    "A = np.array([[4, 2],\n",
    "              [3, 4]])\n",
    "\n",
    "B = np.array([[5, 4],\n",
    "              [7, 6]])\n",
    "A*2,B*3"
   ]
  },
  {
   "cell_type": "markdown",
   "id": "7258582b-771c-41ca-98dd-5229715e8261",
   "metadata": {},
   "source": [
    "# 11\tGiven the array arr = np.array([5, 12, 7, 18, 3]), replace all values greater than 10 with 100.\t\n"
   ]
  },
  {
   "cell_type": "code",
   "execution_count": 11,
   "id": "8667e4df-e1ef-4203-930e-eb8b48a25b6f",
   "metadata": {},
   "outputs": [
    {
     "data": {
      "text/plain": [
       "array([  5, 100,   7, 100,   3])"
      ]
     },
     "execution_count": 11,
     "metadata": {},
     "output_type": "execute_result"
    }
   ],
   "source": [
    "arr = np.array([5, 12, 7, 18, 3])\n",
    "arr[arr > 10] = 100\n",
    "arr"
   ]
  },
  {
   "cell_type": "code",
   "execution_count": null,
   "id": "f77b6942-18a7-4bca-8318-0b084013e6d7",
   "metadata": {},
   "outputs": [],
   "source": []
  }
 ],
 "metadata": {
  "kernelspec": {
   "display_name": "Python 3 (ipykernel)",
   "language": "python",
   "name": "python3"
  },
  "language_info": {
   "codemirror_mode": {
    "name": "ipython",
    "version": 3
   },
   "file_extension": ".py",
   "mimetype": "text/x-python",
   "name": "python",
   "nbconvert_exporter": "python",
   "pygments_lexer": "ipython3",
   "version": "3.13.5"
  }
 },
 "nbformat": 4,
 "nbformat_minor": 5
}
